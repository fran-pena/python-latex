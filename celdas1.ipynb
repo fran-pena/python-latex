{
  "cells": [
    {
      "cell_type": "markdown",
      "metadata": {
        "id": "-c8wLoj2keEv"
      },
      "source": [
        "Prueba guardando en github desde colab (v2)."
      ]
    },
    {
      "cell_type": "markdown",
      "metadata": {
        "collapsed": false,
        "id": "c46602"
      },
      "source": [
        "# Ejemplo de ejecución de celdas\n",
        "\n",
        "Las variables dependientes se crean en el siguiente dicionario:"
      ]
    },
    {
      "cell_type": "code",
      "execution_count": 7,
      "metadata": {
        "id": "c97c88"
      },
      "outputs": [],
      "source": [
        "t = dict()\n",
        "a,b=3,6"
      ]
    },
    {
      "cell_type": "markdown",
      "metadata": {
        "collapsed": false,
        "id": "0b75a1"
      },
      "source": [
        "Los cálculos son los que se describen a continuación.\n",
        "\n",
        "## Fase 1\n",
        "\n",
        "Se describen los cálculos de la fase 1."
      ]
    },
    {
      "cell_type": "code",
      "execution_count": 8,
      "metadata": {
        "id": "66b0b4"
      },
      "outputs": [],
      "source": [
        "t['Y_KE'] = 6\n",
        "t['Y_FG'] = 5\n",
        "t['Y_BU'] = t['Y_KE'] + t['Y_FG']-b+a"
      ]
    },
    {
      "cell_type": "markdown",
      "metadata": {
        "collapsed": false,
        "id": "99a09d"
      },
      "source": [
        "## Márgenes\n",
        "\n",
        "Se describen los márgenes.\n"
      ]
    },
    {
      "cell_type": "code",
      "execution_count": 9,
      "metadata": {
        "id": "f91c33"
      },
      "outputs": [],
      "source": [
        "t['marg'] = t['Y_KE'] + t['Y_FG'] + t['Y_BU']"
      ]
    },
    {
      "cell_type": "markdown",
      "metadata": {
        "collapsed": false,
        "id": "28beee"
      },
      "source": [
        "## Resultados\n",
        "\n",
        "Se indican los resultados que se deben observar a simple vista en esta sección:\n"
      ]
    },
    {
      "cell_type": "code",
      "execution_count": 10,
      "metadata": {
        "id": "21bee9",
        "outputId": "c1f057e4-d5dc-486f-fedb-4eda9d5cd2a8",
        "tags": [
          "hide-input"
        ]
      },
      "outputs": [
        {
          "name": "stdout",
          "output_type": "stream",
          "text": [
            "Margen: 19\n"
          ]
        }
      ],
      "source": [
        "print('Margen:', t['marg'])"
      ]
    },
    {
      "cell_type": "code",
      "execution_count": 11,
      "metadata": {
        "id": "826c3f",
        "tags": [
          "hide-input"
        ]
      },
      "outputs": [],
      "source": [
        "import contextlib\n",
        "import io\n",
        "with contextlib.redirect_stdout(io.StringIO()):\n",
        "    %store t"
      ]
    },
    {
      "cell_type": "code",
      "execution_count": null,
      "metadata": {
        "id": "01ae47"
      },
      "outputs": [],
      "source": []
    }
  ],
  "metadata": {
    "colab": {
      "provenance": []
    },
    "kernelspec": {
      "display_name": "jupyter_venv (3.14.0)",
      "language": "python",
      "name": "python3"
    },
    "language_info": {
      "codemirror_mode": {
        "name": "ipython",
        "version": 3
      },
      "file_extension": ".py",
      "mimetype": "text/x-python",
      "name": "python",
      "nbconvert_exporter": "python",
      "pygments_lexer": "ipython3",
      "version": "3.14.0"
    }
  },
  "nbformat": 4,
  "nbformat_minor": 0
}
