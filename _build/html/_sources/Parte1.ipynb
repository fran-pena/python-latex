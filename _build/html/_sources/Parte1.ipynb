{
 "cells": [
  {
   "cell_type": "markdown",
   "id": "c46602",
   "metadata": {
    "collapsed": false
   },
   "source": [
    "# Ejemplo de Python-LaTeX\n",
    "\n",
    "Las variables dependientes se crean en el siguiente dicionario:"
   ]
  },
  {
   "cell_type": "code",
   "execution_count": 14,
   "id": "c97c88",
   "metadata": {
    "collapsed": false
   },
   "outputs": [],
   "source": [
    "t = dict()"
   ]
  },
  {
   "cell_type": "markdown",
   "id": "0b75a1",
   "metadata": {
    "collapsed": false
   },
   "source": [
    "Los cálculos son los que se describen a continuación. \n",
    "\n",
    "## Fase 1\n",
    "\n",
    "Se describen los cálculos de la fase 1."
   ]
  },
  {
   "cell_type": "code",
   "execution_count": 15,
   "id": "66b0b4",
   "metadata": {
    "collapsed": false
   },
   "outputs": [],
   "source": [
    "t['Y_KE'] = 5\n",
    "t['Y_FG'] = 5\n",
    "t['Y_BU'] = t['Y_KE'] + t['Y_FG']"
   ]
  },
  {
   "cell_type": "markdown",
   "id": "99a09d",
   "metadata": {
    "collapsed": false
   },
   "source": [
    "## Márgenes\n",
    "\n",
    "Se describen los márgenes.\n"
   ]
  },
  {
   "cell_type": "code",
   "execution_count": 16,
   "id": "f91c33",
   "metadata": {
    "collapsed": false
   },
   "outputs": [],
   "source": [
    "t['marg'] = t['Y_KE'] + t['Y_FG'] + t['Y_BU'] "
   ]
  },
  {
   "cell_type": "markdown",
   "id": "28beee",
   "metadata": {
    "collapsed": false
   },
   "source": [
    "## Resultados\n",
    "\n",
    "Se indican los resultados que se deben observar a simple vista en esta sección:\n"
   ]
  },
  {
   "cell_type": "code",
   "execution_count": 17,
   "id": "21bee9",
   "metadata": {
    "collapsed": false,
    "tags": [
     "hide-input"
    ]
   },
   "outputs": [
    {
     "name": "stdout",
     "output_type": "stream",
     "text": [
      "Margen: 20\n"
     ]
    }
   ],
   "source": [
    "print('Margen:', t['marg'])"
   ]
  },
  {
   "cell_type": "code",
   "execution_count": 19,
   "id": "826c3f",
   "metadata": {
    "collapsed": false,
    "tags": [
     "hide-input"
    ]
   },
   "outputs": [],
   "source": [
    "import contextlib\n",
    "import io\n",
    "with contextlib.redirect_stdout(io.StringIO()):\n",
    "    %store t"
   ]
  },
  {
   "cell_type": "code",
   "execution_count": 0,
   "id": "01ae47",
   "metadata": {
    "collapsed": false
   },
   "outputs": [],
   "source": []
  }
 ],
 "metadata": {
  "kernelspec": {
   "argv": [
    "/usr/bin/python3",
    "-m",
    "ipykernel",
    "--HistoryManager.enabled=False",
    "--matplotlib=inline",
    "-c",
    "%config InlineBackend.figure_formats = set(['retina'])\nimport matplotlib; matplotlib.rcParams['figure.figsize'] = (12, 7)",
    "-f",
    "{connection_file}"
   ],
   "display_name": "Python 3 (system-wide)",
   "env": {},
   "language": "python",
   "metadata": {
    "cocalc": {
     "description": "Python 3 programming language",
     "priority": 100,
     "url": "https://www.python.org/"
    }
   },
   "name": "python3",
   "resource_dir": "/ext/jupyter/kernels/python3"
  },
  "language_info": {
   "codemirror_mode": {
    "name": "ipython",
    "version": 3
   },
   "file_extension": ".py",
   "mimetype": "text/x-python",
   "name": "python",
   "nbconvert_exporter": "python",
   "pygments_lexer": "ipython3",
   "version": "3.10.12"
  },
  "widgets": {
   "application/vnd.jupyter.widget-state+json": {
    "state": {},
    "version_major": 2,
    "version_minor": 0
   }
  }
 },
 "nbformat": 4,
 "nbformat_minor": 4
}
