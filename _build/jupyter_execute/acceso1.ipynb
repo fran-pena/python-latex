{
 "cells": [
  {
   "cell_type": "markdown",
   "metadata": {
    "collapsed": false,
    "id": "c46602"
   },
   "source": [
    "# Ejemplo de ejecución de acceso a celdas\n",
    "\n",
    "Las siguiente celda Markdown tiene una fórmula"
   ]
  },
  {
   "cell_type": "markdown",
   "metadata": {},
   "source": [
    "La formula de la celda siguiente se captura porque se concoe en qué indice de celda se está ejecutando (no recomendado si el ipynb está cambiando, demasiado rígido)."
   ]
  },
  {
   "cell_type": "markdown",
   "metadata": {},
   "source": [
    "$\\frac{1 + \\sqrt{a}}{b}+2$"
   ]
  },
  {
   "cell_type": "code",
   "execution_count": 1,
   "metadata": {
    "id": "01ae47",
    "vscode": {
     "languageId": "shellscript"
    }
   },
   "outputs": [
    {
     "name": "stdout",
     "output_type": "stream",
     "text": [
      "Tipo: markdown\n",
      "Contenido: $\\frac{1 + \\sqrt{a}}{b}+2$\n"
     ]
    }
   ],
   "source": [
    "#import ipynbname\n",
    "import nbformat\n",
    "\n",
    "# Obtener el notebook actual\n",
    "#notebook_path = ipynbname.path()\n",
    "\n",
    "with open('./acceso1.ipynb', 'r', encoding='utf-8') as f:\n",
    "    nb = nbformat.read(f, as_version=4)\n",
    "\n",
    "# Suponiendo que esta es la celda 3 (índice 2)\n",
    "current_cell_index = 3  # Tú sabes en qué celda estás ejecutando\n",
    "previous_cell_index = current_cell_index - 1\n",
    "\n",
    "if previous_cell_index >= 0:\n",
    "    previous_cell = nb.cells[previous_cell_index]\n",
    "    print(f\"Tipo: {previous_cell.cell_type}\")\n",
    "    print(f\"Contenido: {previous_cell.source}\")\n",
    "else:\n",
    "    print(\"No hay celda anterior\")"
   ]
  },
  {
   "cell_type": "markdown",
   "metadata": {},
   "source": [
    "La fórmula de la celda siguiente se lee porque tiene un tag \"formula\""
   ]
  },
  {
   "cell_type": "markdown",
   "metadata": {
    "tags": [
     "formula"
    ]
   },
   "source": [
    "$\\frac{1 + \\sqrt{a}}{b}+2$"
   ]
  },
  {
   "cell_type": "code",
   "execution_count": 2,
   "metadata": {
    "vscode": {
     "languageId": "shellscript"
    }
   },
   "outputs": [
    {
     "name": "stdout",
     "output_type": "stream",
     "text": [
      "Celda 5: $\\frac{1 + \\sqrt{a}}{b}+2$\n"
     ]
    }
   ],
   "source": [
    "#import ipynbname\n",
    "import nbformat\n",
    "import json\n",
    "\n",
    "def leer_celdas_con_tag(tag_buscado):\n",
    "    \"\"\"Encuentra celdas markdown con un tag específico\"\"\"\n",
    "    \n",
    "    with open('./acceso1.ipynb', 'r', encoding='utf-8') as f:\n",
    "        nb = nbformat.read(f, as_version=4)\n",
    "    \n",
    "    celdas_encontradas = []\n",
    "    for i, cell in enumerate(nb.cells):\n",
    "        # Verificar si tiene metadatos y tags\n",
    "        if (cell.cell_type == 'markdown' and \n",
    "            'metadata' in cell and \n",
    "            'tags' in cell.metadata):\n",
    "            \n",
    "            if tag_buscado in cell.metadata['tags']:\n",
    "                celdas_encontradas.append({\n",
    "                    'index': i,\n",
    "                    'content': cell.source\n",
    "                })\n",
    "    \n",
    "    return celdas_encontradas\n",
    "\n",
    "# Uso\n",
    "celdas_markdown = leer_celdas_con_tag(\"formula\")\n",
    "for celda in celdas_markdown:\n",
    "    print(f\"Celda {celda['index']}: {celda['content']}\")"
   ]
  },
  {
   "cell_type": "code",
   "execution_count": null,
   "metadata": {
    "vscode": {
     "languageId": "shellscript"
    }
   },
   "outputs": [],
   "source": []
  }
 ],
 "metadata": {
  "colab": {
   "provenance": []
  },
  "kernelspec": {
   "display_name": "jupyter_venv",
   "language": "python",
   "name": "python3"
  },
  "language_info": {
   "codemirror_mode": {
    "name": "ipython",
    "version": 3
   },
   "file_extension": ".py",
   "mimetype": "text/x-python",
   "name": "python",
   "nbconvert_exporter": "python",
   "pygments_lexer": "ipython3",
   "version": "3.14.0"
  }
 },
 "nbformat": 4,
 "nbformat_minor": 0
}