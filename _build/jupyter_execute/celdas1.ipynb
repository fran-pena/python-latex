{
 "cells": [
  {
   "cell_type": "markdown",
   "metadata": {
    "id": "-c8wLoj2keEv"
   },
   "source": [
    "Prueba guardando en github desde colab (v2)."
   ]
  },
  {
   "cell_type": "markdown",
   "metadata": {
    "collapsed": false,
    "id": "c46602"
   },
   "source": [
    "# Ejemplo de ejecución de celdas\n",
    "\n",
    "Las variables dependientes se crean en el siguiente dicionario:"
   ]
  },
  {
   "cell_type": "code",
   "execution_count": 1,
   "metadata": {
    "id": "c97c88"
   },
   "outputs": [],
   "source": [
    "t = dict()"
   ]
  },
  {
   "cell_type": "markdown",
   "metadata": {
    "collapsed": false,
    "id": "0b75a1"
   },
   "source": [
    "Los cálculos son los que se describen a continuación.\n",
    "\n",
    "## Fase 1\n",
    "\n",
    "Se describen los cálculos de la fase 1."
   ]
  },
  {
   "cell_type": "code",
   "execution_count": 2,
   "metadata": {
    "id": "66b0b4"
   },
   "outputs": [],
   "source": [
    "t['Y_KE'] = 5\n",
    "t['Y_FG'] = 5\n",
    "t['Y_BU'] = t['Y_KE'] + t['Y_FG']"
   ]
  },
  {
   "cell_type": "markdown",
   "metadata": {
    "collapsed": false,
    "id": "99a09d"
   },
   "source": [
    "## Márgenes\n",
    "\n",
    "Se describen los márgenes.\n"
   ]
  },
  {
   "cell_type": "code",
   "execution_count": 3,
   "metadata": {
    "id": "f91c33"
   },
   "outputs": [],
   "source": [
    "t['marg'] = t['Y_KE'] + t['Y_FG'] + t['Y_BU']"
   ]
  },
  {
   "cell_type": "markdown",
   "metadata": {
    "collapsed": false,
    "id": "28beee"
   },
   "source": [
    "## Resultados\n",
    "\n",
    "Se indican los resultados que se deben observar a simple vista en esta sección:\n"
   ]
  },
  {
   "cell_type": "code",
   "execution_count": 4,
   "metadata": {
    "id": "21bee9",
    "outputId": "c1f057e4-d5dc-486f-fedb-4eda9d5cd2a8",
    "tags": [
     "hide-input"
    ]
   },
   "outputs": [
    {
     "name": "stdout",
     "output_type": "stream",
     "text": [
      "Margen: 20\n"
     ]
    }
   ],
   "source": [
    "print('Margen:', t['marg'])"
   ]
  },
  {
   "cell_type": "code",
   "execution_count": 5,
   "metadata": {
    "id": "826c3f",
    "tags": [
     "hide-input"
    ]
   },
   "outputs": [],
   "source": [
    "import contextlib\n",
    "import io\n",
    "with contextlib.redirect_stdout(io.StringIO()):\n",
    "    %store t"
   ]
  },
  {
   "cell_type": "code",
   "execution_count": null,
   "metadata": {
    "id": "01ae47"
   },
   "outputs": [],
   "source": []
  }
 ],
 "metadata": {
  "colab": {
   "provenance": []
  },
  "kernelspec": {
   "argv": [
    "/usr/bin/python3",
    "-m",
    "ipykernel",
    "--HistoryManager.enabled=False",
    "--matplotlib=inline",
    "-c",
    "%config InlineBackend.figure_formats = set(['retina'])\nimport matplotlib; matplotlib.rcParams['figure.figsize'] = (12, 7)",
    "-f",
    "{connection_file}"
   ],
   "display_name": "Python 3 (system-wide)",
   "env": {},
   "language": "python",
   "metadata": {
    "cocalc": {
     "description": "Python 3 programming language",
     "priority": 100,
     "url": "https://www.python.org/"
    }
   },
   "name": "python3",
   "resource_dir": "/ext/jupyter/kernels/python3"
  },
  "language_info": {
   "codemirror_mode": {
    "name": "ipython",
    "version": 3
   },
   "file_extension": ".py",
   "mimetype": "text/x-python",
   "name": "python",
   "nbconvert_exporter": "python",
   "pygments_lexer": "ipython3",
   "version": "3.14.0"
  }
 },
 "nbformat": 4,
 "nbformat_minor": 0
}