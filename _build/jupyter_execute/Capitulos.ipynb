{
 "cells": [
  {
   "cell_type": "markdown",
   "id": "78117221",
   "metadata": {},
   "source": [
    "# Ejemplo de Python-LaTeX\n",
    "\n",
    "Este ejemplo presenta las siguientes partes:\n",
    "\n",
    "```{tableofcontents}"
   ]
  }
 ],
 "metadata": {
  "jupytext": {
   "formats": "md:myst",
   "text_representation": {
    "extension": ".md",
    "format_name": "myst",
    "format_version": 0.13,
    "jupytext_version": "1.11.5"
   }
  },
  "kernelspec": {
   "display_name": "Python 3",
   "language": "python",
   "name": "python3"
  },
  "language_info": {
   "codemirror_mode": {
    "name": "ipython",
    "version": 3
   },
   "file_extension": ".py",
   "mimetype": "text/x-python",
   "name": "python",
   "nbconvert_exporter": "python",
   "pygments_lexer": "ipython3",
   "version": "3.13.2"
  },
  "source_map": [
   13
  ]
 },
 "nbformat": 4,
 "nbformat_minor": 5
}