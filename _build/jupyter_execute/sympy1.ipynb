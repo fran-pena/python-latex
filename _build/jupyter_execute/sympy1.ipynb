{
 "cells": [
  {
   "cell_type": "markdown",
   "metadata": {
    "id": "-c8wLoj2keEv"
   },
   "source": [
    "Prueba guardando en github desde colab (v2)."
   ]
  },
  {
   "cell_type": "markdown",
   "metadata": {
    "collapsed": false,
    "id": "c46602"
   },
   "source": [
    "# Ejemplo de ejecución de SymPy\n",
    "\n",
    "Las variables dependientes se crean en el siguiente dicionario:"
   ]
  },
  {
   "cell_type": "code",
   "execution_count": 1,
   "metadata": {
    "id": "c97c88",
    "vscode": {
     "languageId": "shellscript"
    }
   },
   "outputs": [
    {
     "name": "stdout",
     "output_type": "stream",
     "text": [
      "Expresión SymPy: 2 + (sqrt(a) + 1)/b\n",
      "derivada ∂/∂a: 1/(2*sqrt(a)*b)\n",
      "Valor numérico: 3.618033988749895\n"
     ]
    }
   ],
   "source": [
    "# REQUISITOS:\n",
    "# python -m pip install sympy\n",
    "# python -m pip install antlr4-python3-runtime==4.11\n",
    "# RESULTADO:\n",
    "# >> python ejemplo_sympy.py\n",
    "#    Expresión SymPy: (sqrt(a) + 1)/b\n",
    "#    derivada ∂/∂a: 1/(2*sqrt(a)*b)\n",
    "#    Valor numérico: 1.618033988749895\n",
    "\n",
    "from sympy import symbols\n",
    "from sympy.parsing.latex import parse_latex\n",
    "\n",
    "# definir símbolos que luego usaremos\n",
    "a, b = symbols('a b')\n",
    "\n",
    "# cadena LaTeX; nota el prefijo r\"\" para que las barras no se interpreten como escapes\n",
    "latex_str = r\"\\frac{1 + \\sqrt{a}}{b}+2\"\n",
    "\n",
    "# parseamos\n",
    "expr = parse_latex(latex_str)\n",
    "print(\"Expresión SymPy:\", expr)\n",
    "# -> debería imprimir algo como (sqrt(a) + 1)/b\n",
    "\n",
    "# Ahora podemos hacer operaciones simbólicas:\n",
    "# por ejemplo, derivar respecto a a\n",
    "dexpr_da = expr.diff(a)\n",
    "print(\"derivada ∂/∂a:\", dexpr_da)\n",
    "\n",
    "# evaluar para valores concretos, digamos a = 5, b = 2\n",
    "val = expr.subs({a: 5, b: 2})\n",
    "print(\"Valor numérico:\", float(val))\n"
   ]
  },
  {
   "cell_type": "code",
   "execution_count": null,
   "metadata": {
    "id": "01ae47",
    "vscode": {
     "languageId": "shellscript"
    }
   },
   "outputs": [],
   "source": []
  }
 ],
 "metadata": {
  "colab": {
   "provenance": []
  },
  "kernelspec": {
   "display_name": "jupyter_venv",
   "language": "python",
   "name": "python3"
  },
  "language_info": {
   "codemirror_mode": {
    "name": "ipython",
    "version": 3
   },
   "file_extension": ".py",
   "mimetype": "text/x-python",
   "name": "python",
   "nbconvert_exporter": "python",
   "pygments_lexer": "ipython3",
   "version": "3.14.0"
  }
 },
 "nbformat": 4,
 "nbformat_minor": 0
}