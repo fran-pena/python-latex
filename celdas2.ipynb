{
 "cells": [
  {
   "cell_type": "markdown",
   "id": "2b2be9",
   "metadata": {
    "collapsed": false
   },
   "source": [
    "# Resultados del ejemplo de ejecución de celdas"
   ]
  },
  {
   "cell_type": "code",
   "execution_count": 0,
   "id": "ae453f",
   "metadata": {
    "collapsed": false,
    "tags": [
     "hide-input"
    ]
   },
   "outputs": [],
   "source": [
    "%store -r t"
   ]
  },
  {
   "cell_type": "markdown",
   "id": "57bb03",
   "metadata": {
    "collapsed": false
   },
   "source": [
    "Las variables dependientes del resultado se crean en el siguiente diccionario:"
   ]
  },
  {
   "cell_type": "code",
   "execution_count": 7,
   "id": "35ec86",
   "metadata": {
    "collapsed": false
   },
   "outputs": [],
   "source": [
    "ef = dict()"
   ]
  },
  {
   "cell_type": "markdown",
   "id": "72368b",
   "metadata": {
    "collapsed": false
   },
   "source": [
    "Los cálculos son los que se describen a continuación. \n",
    "\n",
    "## Márgenes\n",
    "\n",
    "Se describen los márgenes."
   ]
  },
  {
   "cell_type": "code",
   "execution_count": 8,
   "id": "8cfcba",
   "metadata": {
    "collapsed": false
   },
   "outputs": [],
   "source": [
    "ef['marg'] = 2*t['marg']"
   ]
  },
  {
   "cell_type": "markdown",
   "id": "63ae05",
   "metadata": {
    "collapsed": false
   },
   "source": [
    "## Resultados\n",
    "\n",
    "Se indican los resultados que se deben observar a simple vista en esta sección:"
   ]
  },
  {
   "cell_type": "code",
   "execution_count": 9,
   "id": "92f1a5",
   "metadata": {
    "collapsed": false,
    "tags": [
     "hide-input"
    ]
   },
   "outputs": [
    {
     "name": "stdout",
     "output_type": "stream",
     "text": [
      "Margen:  40\n"
     ]
    }
   ],
   "source": [
    "print('Margen: ', ef['marg'])"
   ]
  }
 ],
 "metadata": {
  "kernelspec": {
   "argv": [
    "/usr/bin/python3",
    "-m",
    "ipykernel",
    "--HistoryManager.enabled=False",
    "--matplotlib=inline",
    "-c",
    "%config InlineBackend.figure_formats = set(['retina'])\nimport matplotlib; matplotlib.rcParams['figure.figsize'] = (12, 7)",
    "-f",
    "{connection_file}"
   ],
   "display_name": "Python 3 (system-wide)",
   "env": {},
   "language": "python",
   "metadata": {
    "cocalc": {
     "description": "Python 3 programming language",
     "priority": 100,
     "url": "https://www.python.org/"
    }
   },
   "name": "python3",
   "resource_dir": "/ext/jupyter/kernels/python3"
  },
  "language_info": {
   "codemirror_mode": {
    "name": "ipython",
    "version": 3
   },
   "file_extension": ".py",
   "mimetype": "text/x-python",
   "name": "python",
   "nbconvert_exporter": "python",
   "pygments_lexer": "ipython3",
   "version": "3.10.12"
  },
  "widgets": {
   "application/vnd.jupyter.widget-state+json": {
    "state": {},
    "version_major": 2,
    "version_minor": 0
   }
  }
 },
 "nbformat": 4,
 "nbformat_minor": 4
}
